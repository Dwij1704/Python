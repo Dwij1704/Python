{
 "cells": [
  {
   "cell_type": "code",
   "execution_count": 1,
   "id": "a9894cf4",
   "metadata": {},
   "outputs": [
    {
     "name": "stdout",
     "output_type": "stream",
     "text": [
      "Size of each element of list in bytes 48\n",
      "Size of whole list in bytes 48000\n"
     ]
    },
    {
     "ename": "AttributeError",
     "evalue": "partially initialized module 'numpy' has no attribute 'd' (most likely due to a circular import)",
     "output_type": "error",
     "traceback": [
      "\u001b[1;31m---------------------------------------------------------------------------\u001b[0m",
      "\u001b[1;31mAttributeError\u001b[0m                            Traceback (most recent call last)",
      "Cell \u001b[1;32mIn [1], line 1\u001b[0m\n\u001b[1;32m----> 1\u001b[0m \u001b[38;5;28;01mimport\u001b[39;00m \u001b[38;5;21;01mnumpy\u001b[39;00m \u001b[38;5;28;01mas\u001b[39;00m \u001b[38;5;21;01mnp\u001b[39;00m\n\u001b[0;32m      2\u001b[0m \u001b[38;5;28;01mimport\u001b[39;00m \u001b[38;5;21;01msys\u001b[39;00m\n\u001b[0;32m      3\u001b[0m s\u001b[38;5;241m=\u001b[39m \u001b[38;5;28mrange\u001b[39m(\u001b[38;5;241m1000\u001b[39m)\n",
      "File \u001b[1;32mD:\\Sem 3\\Python\\Advance OOP in Python\\numpy.py:6\u001b[0m\n\u001b[0;32m      4\u001b[0m \u001b[38;5;28mprint\u001b[39m(\u001b[38;5;124m\"\u001b[39m\u001b[38;5;124mSize of each element of list in bytes\u001b[39m\u001b[38;5;124m\"\u001b[39m,sys\u001b[38;5;241m.\u001b[39mgetsizeof(s))\n\u001b[0;32m      5\u001b[0m \u001b[38;5;28mprint\u001b[39m(\u001b[38;5;124m\"\u001b[39m\u001b[38;5;124mSize of whole list in bytes\u001b[39m\u001b[38;5;124m\"\u001b[39m,sys\u001b[38;5;241m.\u001b[39mgetsizeof(s)\u001b[38;5;241m*\u001b[39m\u001b[38;5;28mlen\u001b[39m(s))\n\u001b[1;32m----> 6\u001b[0m d\u001b[38;5;241m=\u001b[39m\u001b[43mnp\u001b[49m\u001b[38;5;241;43m.\u001b[39;49m\u001b[43md\u001b[49m(\u001b[38;5;241m1000\u001b[39m)\n\u001b[0;32m      7\u001b[0m \u001b[38;5;28mprint\u001b[39m(\u001b[38;5;124m\"\u001b[39m\u001b[38;5;124mSize of\u001b[39m\u001b[38;5;124m\"\u001b[39m,d\u001b[38;5;241m.\u001b[39mitemsize)\n\u001b[0;32m      8\u001b[0m \u001b[38;5;28mprint\u001b[39m(\u001b[38;5;124m\"\u001b[39m\u001b[38;5;124mSize of whole\u001b[39m\u001b[38;5;124m\"\u001b[39m,d\u001b[38;5;241m.\u001b[39mitemsize\u001b[38;5;241m*\u001b[39md\u001b[38;5;241m.\u001b[39msize)\n",
      "\u001b[1;31mAttributeError\u001b[0m: partially initialized module 'numpy' has no attribute 'd' (most likely due to a circular import)"
     ]
    }
   ],
   "source": [
    "import numpy as np\n",
    "import sys\n",
    "s= range(1000)\n",
    "print(\"Size of each element of list in bytes\",sys.getsizeof(s))\n",
    "print(\"Size of whole list in bytes\",sys.getsizeof(s)*len(s))\n",
    "d=np.arange(1000)\n",
    "print(\"Size of\",d.itemsize)\n",
    "print(\"Size of whole\",d.itemsize*d.size)"
   ]
  },
  {
   "cell_type": "code",
   "execution_count": null,
   "id": "7511b0d7",
   "metadata": {},
   "outputs": [],
   "source": []
  }
 ],
 "metadata": {
  "kernelspec": {
   "display_name": "Python 3 (ipykernel)",
   "language": "python",
   "name": "python3"
  },
  "language_info": {
   "codemirror_mode": {
    "name": "ipython",
    "version": 3
   },
   "file_extension": ".py",
   "mimetype": "text/x-python",
   "name": "python",
   "nbconvert_exporter": "python",
   "pygments_lexer": "ipython3",
   "version": "3.10.7"
  }
 },
 "nbformat": 4,
 "nbformat_minor": 5
}
