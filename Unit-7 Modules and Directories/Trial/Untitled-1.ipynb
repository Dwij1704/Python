{
 "cells": [
  {
   "cell_type": "code",
   "execution_count": 1,
   "metadata": {
    "tags": []
   },
   "outputs": [
    {
     "data": {
      "text/plain": [
       "'d:\\\\Sem 3\\\\Python\\\\T3\\\\Unit-6 Modules and Directories\\\\Trial'"
      ]
     },
     "execution_count": 1,
     "metadata": {},
     "output_type": "execute_result"
    }
   ],
   "source": [
    "import os\n",
    "os.getcwd()"
   ]
  },
  {
   "cell_type": "code",
   "execution_count": 2,
   "metadata": {},
   "outputs": [],
   "source": [
    "os.mkdir(\"new\")"
   ]
  },
  {
   "cell_type": "code",
   "execution_count": 3,
   "metadata": {},
   "outputs": [
    {
     "data": {
      "text/plain": [
       "'d:\\\\Sem 3\\\\Python\\\\T3\\\\Unit-6 Modules and Directories\\\\Trial'"
      ]
     },
     "execution_count": 3,
     "metadata": {},
     "output_type": "execute_result"
    }
   ],
   "source": [
    "os.getcwd()"
   ]
  },
  {
   "cell_type": "code",
   "execution_count": 4,
   "metadata": {},
   "outputs": [
    {
     "data": {
      "text/plain": [
       "'d:\\\\Sem 3\\\\Python\\\\T3\\\\Unit-6 Modules and Directories\\\\Trial\\\\new'"
      ]
     },
     "execution_count": 4,
     "metadata": {},
     "output_type": "execute_result"
    }
   ],
   "source": [
    "s=os.getcwd()\n",
    "os.getcwd()\n",
    "os.chdir(s+\"\\\\new\")\n",
    "os.getcwd()"
   ]
  },
  {
   "cell_type": "code",
   "execution_count": 5,
   "metadata": {},
   "outputs": [
    {
     "name": "stdout",
     "output_type": "stream",
     "text": [
      "Writing xyz.py\n"
     ]
    }
   ],
   "source": [
    "%%writefile xyz.py\n",
    "def sum(a,b):\n",
    "    print(a+b)"
   ]
  },
  {
   "cell_type": "code",
   "execution_count": 6,
   "metadata": {},
   "outputs": [
    {
     "data": {
      "text/plain": [
       "['xyz.py']"
      ]
     },
     "execution_count": 6,
     "metadata": {},
     "output_type": "execute_result"
    }
   ],
   "source": [
    "os.listdir()"
   ]
  },
  {
   "cell_type": "code",
   "execution_count": 7,
   "metadata": {},
   "outputs": [],
   "source": [
    "os.remove(\"D:\\\\Sem 3\\\\Python\\\\T3\\\\Unit-6 Modules and Directories\\\\Trial\\\\new\\\\xyz.py\")"
   ]
  },
  {
   "cell_type": "code",
   "execution_count": 8,
   "metadata": {},
   "outputs": [
    {
     "ename": "FileNotFoundError",
     "evalue": "[WinError 2] The system cannot find the file specified: 'D:\\\\Sem 3\\\\Python\\\\T3\\\\Unit-6 Modules and Directories\\\\Trial\\\\not new'",
     "output_type": "error",
     "traceback": [
      "\u001b[1;31m---------------------------------------------------------------------------\u001b[0m",
      "\u001b[1;31mFileNotFoundError\u001b[0m                         Traceback (most recent call last)",
      "Cell \u001b[1;32mIn [8], line 1\u001b[0m\n\u001b[1;32m----> 1\u001b[0m os\u001b[39m.\u001b[39;49mrmdir(\u001b[39m\"\u001b[39;49m\u001b[39mD:\u001b[39;49m\u001b[39m\\\\\u001b[39;49;00m\u001b[39mSem 3\u001b[39;49m\u001b[39m\\\\\u001b[39;49;00m\u001b[39mPython\u001b[39;49m\u001b[39m\\\\\u001b[39;49;00m\u001b[39mT3\u001b[39;49m\u001b[39m\\\\\u001b[39;49;00m\u001b[39mUnit-6 Modules and Directories\u001b[39;49m\u001b[39m\\\\\u001b[39;49;00m\u001b[39mTrial\u001b[39;49m\u001b[39m\\\\\u001b[39;49;00m\u001b[39mnot new\u001b[39;49m\u001b[39m\"\u001b[39;49m)\n",
      "\u001b[1;31mFileNotFoundError\u001b[0m: [WinError 2] The system cannot find the file specified: 'D:\\\\Sem 3\\\\Python\\\\T3\\\\Unit-6 Modules and Directories\\\\Trial\\\\not new'"
     ]
    }
   ],
   "source": [
    "os.rmdir(\"D:\\\\Sem 3\\\\Python\\\\T3\\\\Unit-6 Modules and Directories\\\\Trial\\\\not new\")"
   ]
  },
  {
   "cell_type": "code",
   "execution_count": 9,
   "metadata": {},
   "outputs": [
    {
     "data": {
      "text/plain": [
       "'d:\\\\Sem 3\\\\Python\\\\T3\\\\Unit-6 Modules and Directories\\\\Trial\\\\new'"
      ]
     },
     "execution_count": 9,
     "metadata": {},
     "output_type": "execute_result"
    }
   ],
   "source": [
    "os.getcwd()"
   ]
  },
  {
   "cell_type": "code",
   "execution_count": 10,
   "metadata": {},
   "outputs": [],
   "source": [
    "os.mkdir(\"pkg\")"
   ]
  },
  {
   "cell_type": "code",
   "execution_count": 11,
   "metadata": {},
   "outputs": [],
   "source": [
    "os.chdir(\"d:\\\\Sem 3\\\\Python\\\\T3\\\\Unit-6 Modules and Directories\\\\Trial\\\\new\\\\pkg\")"
   ]
  },
  {
   "cell_type": "code",
   "execution_count": 12,
   "metadata": {},
   "outputs": [
    {
     "name": "stdout",
     "output_type": "stream",
     "text": [
      "Writing mod1.py\n"
     ]
    }
   ],
   "source": [
    "%%writefile mod1.py\n",
    "def foo():\n",
    "    print(\"This is Foo\")"
   ]
  },
  {
   "cell_type": "code",
   "execution_count": 13,
   "metadata": {},
   "outputs": [
    {
     "name": "stdout",
     "output_type": "stream",
     "text": [
      "Overwriting mod1.py\n"
     ]
    }
   ],
   "source": [
    "%%writefile mod1.py\n",
    "def foo():\n",
    "    print(\"This is Bar\")"
   ]
  },
  {
   "cell_type": "code",
   "execution_count": 14,
   "metadata": {},
   "outputs": [
    {
     "name": "stdout",
     "output_type": "stream",
     "text": [
      "Overwriting mod1.py\n"
     ]
    }
   ],
   "source": [
    "%%writefile mod1.py\n",
    "def foo():\n",
    "    print(\"This is Foo\")"
   ]
  },
  {
   "cell_type": "code",
   "execution_count": 15,
   "metadata": {},
   "outputs": [
    {
     "name": "stdout",
     "output_type": "stream",
     "text": [
      "Writing mod2.py\n"
     ]
    }
   ],
   "source": [
    "%%writefile mod2.py\n",
    "def bar():\n",
    "    print(\"This is Bar\")"
   ]
  },
  {
   "cell_type": "code",
   "execution_count": 16,
   "metadata": {},
   "outputs": [],
   "source": [
    "os.chdir(\"D:\\\\Sem 3\\\\Python\\\\T3\\\\Unit-6 Modules and Directories\\\\Trial\\\\new\")"
   ]
  },
  {
   "cell_type": "code",
   "execution_count": 17,
   "metadata": {},
   "outputs": [
    {
     "data": {
      "text/plain": [
       "'D:\\\\Sem 3\\\\Python\\\\T3\\\\Unit-6 Modules and Directories\\\\Trial\\\\new'"
      ]
     },
     "execution_count": 17,
     "metadata": {},
     "output_type": "execute_result"
    }
   ],
   "source": [
    "os.getcwd()"
   ]
  },
  {
   "cell_type": "code",
   "execution_count": 18,
   "metadata": {},
   "outputs": [
    {
     "data": {
      "text/plain": [
       "['In',\n",
       " 'Out',\n",
       " '_',\n",
       " '_1',\n",
       " '_17',\n",
       " '_3',\n",
       " '_4',\n",
       " '_6',\n",
       " '_9',\n",
       " '__',\n",
       " '___',\n",
       " '__builtin__',\n",
       " '__builtins__',\n",
       " '__doc__',\n",
       " '__loader__',\n",
       " '__name__',\n",
       " '__package__',\n",
       " '__spec__',\n",
       " '__vsc_ipynb_file__',\n",
       " '_dh',\n",
       " '_i',\n",
       " '_i1',\n",
       " '_i10',\n",
       " '_i11',\n",
       " '_i12',\n",
       " '_i13',\n",
       " '_i14',\n",
       " '_i15',\n",
       " '_i16',\n",
       " '_i17',\n",
       " '_i18',\n",
       " '_i2',\n",
       " '_i3',\n",
       " '_i4',\n",
       " '_i5',\n",
       " '_i6',\n",
       " '_i7',\n",
       " '_i8',\n",
       " '_i9',\n",
       " '_ih',\n",
       " '_ii',\n",
       " '_iii',\n",
       " '_oh',\n",
       " 'exit',\n",
       " 'get_ipython',\n",
       " 'open',\n",
       " 'os',\n",
       " 'quit',\n",
       " 's',\n",
       " 'sys']"
      ]
     },
     "execution_count": 18,
     "metadata": {},
     "output_type": "execute_result"
    }
   ],
   "source": [
    "dir()"
   ]
  },
  {
   "cell_type": "code",
   "execution_count": 19,
   "metadata": {},
   "outputs": [
    {
     "name": "stdout",
     "output_type": "stream",
     "text": [
      "This is Foo\n",
      "This is Bar\n"
     ]
    }
   ],
   "source": [
    "from pkg import mod1,mod2\n",
    "dir()\n",
    "mod1.foo()\n",
    "mod2.bar()"
   ]
  },
  {
   "cell_type": "code",
   "execution_count": null,
   "metadata": {},
   "outputs": [],
   "source": []
  }
 ],
 "metadata": {
  "kernelspec": {
   "display_name": "Python 3",
   "language": "python",
   "name": "python3"
  },
  "language_info": {
   "codemirror_mode": {
    "name": "ipython",
    "version": 3
   },
   "file_extension": ".py",
   "mimetype": "text/x-python",
   "name": "python",
   "nbconvert_exporter": "python",
   "pygments_lexer": "ipython3",
   "version": "3.10.7"
  },
  "orig_nbformat": 4,
  "vscode": {
   "interpreter": {
    "hash": "5a96ead9278c81683e168c2beb7d46d0bf6f83a6689615e4b5978d684f4b6cc6"
   }
  }
 },
 "nbformat": 4,
 "nbformat_minor": 2
}
